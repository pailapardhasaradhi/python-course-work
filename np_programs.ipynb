{
  "cells": [
    {
      "cell_type": "code",
      "execution_count": 1,
      "metadata": {
        "colab": {
          "base_uri": "https://localhost:8080/"
        },
        "id": "zDDRJjSCxs5c",
        "outputId": "8b0250a1-7fe6-479f-80ab-57dc7dd887c9"
      },
      "outputs": [
        {
          "name": "stdout",
          "output_type": "stream",
          "text": [
            "[['pardhu' 'pardhu' 'pardhu' 'pardhu' 'pardhu' 'pardhu' 'pardhu' 'pardhu'\n",
            "  'pardhu']\n",
            " ['pardhu' 'pardhu' 'pardhu' 'pardhu' 'pardhu' 'pardhu' 'pardhu' 'pardhu'\n",
            "  'pardhu']\n",
            " ['pardhu' 'pardhu' 'pardhu' 'pardhu' 'pardhu' 'pardhu' 'pardhu' 'pardhu'\n",
            "  'pardhu']\n",
            " ['pardhu' 'pardhu' 'pardhu' 'pardhu' 'pardhu' 'pardhu' 'pardhu' 'pardhu'\n",
            "  'pardhu']\n",
            " ['pardhu' 'pardhu' 'pardhu' 'pardhu' 'pardhu' 'pardhu' 'pardhu' 'pardhu'\n",
            "  'pardhu']]\n"
          ]
        }
      ],
      "source": [
        "import numpy as np\n",
        "full_array= np.full((5,9),\"pardhu\")\n",
        "print(full_array)"
      ]
    },
    {
      "cell_type": "code",
      "execution_count": null,
      "metadata": {
        "id": "u0euIAHIw71f"
      },
      "outputs": [],
      "source": [
        "zeros = np.zeros((3, 5))\n",
        "print(zeros)\n"
      ]
    },
    {
      "cell_type": "code",
      "execution_count": 2,
      "metadata": {
        "id": "5ykIctaxxRGJ"
      },
      "outputs": [
        {
          "name": "stdout",
          "output_type": "stream",
          "text": [
            "[[1. 1. 1. 1.]\n",
            " [1. 1. 1. 1.]\n",
            " [1. 1. 1. 1.]\n",
            " [1. 1. 1. 1.]\n",
            " [1. 1. 1. 1.]\n",
            " [1. 1. 1. 1.]]\n"
          ]
        }
      ],
      "source": [
        "ones = np.ones((6, 4))\n",
        "print(ones)"
      ]
    },
    {
      "cell_type": "code",
      "execution_count": null,
      "metadata": {
        "id": "QF4SwoWCxVor"
      },
      "outputs": [],
      "source": [
        "identity = np.eye(6)\n",
        "print(identity)"
      ]
    },
    {
      "cell_type": "code",
      "execution_count": null,
      "metadata": {
        "id": "sZsrycS8xZ7-"
      },
      "outputs": [],
      "source": [
        "full_array = np.full((5, 9), False)\n",
        "print(full_array)"
      ]
    },
    {
      "cell_type": "code",
      "execution_count": null,
      "metadata": {
        "id": "jCg8eqYJxe-T"
      },
      "outputs": [],
      "source": [
        "range_arr = np.arange(10,-1,-1)\n",
        "print(range_arr)"
      ]
    },
    {
      "cell_type": "code",
      "execution_count": null,
      "metadata": {
        "id": "Pcr0nP8KxjEK"
      },
      "outputs": [],
      "source": [
        "lin_space = np.linspace(0, 50, 5)\n",
        "print(lin_space)"
      ]
    },
    {
      "cell_type": "code",
      "execution_count": null,
      "metadata": {
        "id": "utXoxmIhxmOU"
      },
      "outputs": [],
      "source": [
        "rand_int = np.random.randint(50, 100, (10, 20))\n",
        "print(rand_int)"
      ]
    },
    {
      "cell_type": "code",
      "execution_count": null,
      "metadata": {
        "id": "lG2Kk521xpea"
      },
      "outputs": [],
      "source": [
        "rand_float = np.random.rand(8, 3)\n",
        "print(rand_float)"
      ]
    },
    {
      "cell_type": "code",
      "execution_count": null,
      "metadata": {
        "id": "qMRhF_1gxwhg"
      },
      "outputs": [],
      "source": [
        "rand_norm = np.random.randn(3, 3)\n",
        "print(rand_norm)"
      ]
    },
    {
      "cell_type": "code",
      "execution_count": null,
      "metadata": {
        "id": "yH7ADYk5xzrw"
      },
      "outputs": [],
      "source": [
        "rand_choice = np.random.choice(['html','css','javascript','python','mysql'], 3)\n",
        "print(rand_choice)"
      ]
    },
    {
      "cell_type": "code",
      "execution_count": null,
      "metadata": {
        "id": "nDn8foQOx2wP"
      },
      "outputs": [],
      "source": [
        "np.random.seed(10)\n",
        "rand_arr = np.random.randint(6)\n",
        "print(rand_arr)"
      ]
    },
    {
      "cell_type": "code",
      "execution_count": null,
      "metadata": {
        "id": "d1zp3MkTx8bq"
      },
      "outputs": [],
      "source": [
        "arr = np.array([[1, 2], [4, 5],[6,7],[8,7],[1,2],[4,5]])\n",
        "print(arr.shape)"
      ]
    },
    {
      "cell_type": "code",
      "execution_count": null,
      "metadata": {
        "id": "OtW9qAi8x_6i"
      },
      "outputs": [],
      "source": [
        "reshaped = arr.reshape(4,3)\n",
        "print(reshaped)"
      ]
    },
    {
      "cell_type": "code",
      "execution_count": null,
      "metadata": {
        "id": "2K0R9aKjyHOh"
      },
      "outputs": [],
      "source": [
        "flattened = arr.flatten()\n",
        "print(flattened)"
      ]
    },
    {
      "cell_type": "code",
      "execution_count": null,
      "metadata": {
        "id": "tMzzrh9pyLT4"
      },
      "outputs": [],
      "source": [
        "transposed = arr.T\n",
        "print(transposed)"
      ]
    },
    {
      "cell_type": "code",
      "execution_count": null,
      "metadata": {
        "colab": {
          "base_uri": "https://localhost:8080/"
        },
        "id": "95GiABIHeYV2",
        "outputId": "dbb5d7c5-424e-4c7e-805e-cd33ca81e282"
      },
      "outputs": [
        {
          "name": "stdout",
          "output_type": "stream",
          "text": [
            "<module 'numpy' from '/usr/local/lib/python3.12/dist-packages/numpy/__init__.py'>\n",
            "1-dim\n",
            "[1 2 3 4 5]\n",
            "\n",
            "2-dim\n",
            "[[1 2 3]\n",
            " [4 5 6]]\n",
            "\n",
            "multi-dim\n",
            "[[[1 2]\n",
            "  [3 4]]\n",
            "\n",
            " [[5 6]\n",
            "  [7 8]]]\n"
          ]
        }
      ],
      "source": [
        "import numpy as np\n",
        "\n",
        "print(np)\n",
        "\n",
        "arr1 = np.array([1, 2, 3, 4, 5])\n",
        "print(\"1-dim\",arr1,sep='\\n',end='\\n\\n')\n",
        "\n",
        "arr2 = np.array([[1, 2, 3], [4, 5, 6]])\n",
        "print(\"2-dim\",arr2,sep='\\n',end='\\n\\n')\n",
        "\n",
        "arr3 = np.array([[[1, 2], [3, 4]],[[5, 6], [7, 8]]])\n",
        "print(\"multi-dim\",arr3,sep='\\n')\n"
      ]
    },
    {
      "cell_type": "code",
      "execution_count": null,
      "metadata": {
        "colab": {
          "base_uri": "https://localhost:8080/"
        },
        "id": "a9-dSNEyydC9",
        "outputId": "056f66cc-92fc-49a6-af5b-e80c61f38b85"
      },
      "outputs": [
        {
          "name": "stdout",
          "output_type": "stream",
          "text": [
            "[  1   2   3   4   5   6   7   8   9  10  11  12  13  14  15  16  17  18\n",
            "  19  20  21  22  23  24  25  26  27  28  29  30  31  32  33  34  35  36\n",
            "  37  38  39  40  41  42  43  44  45  46  47  48  49  50  51  52  53  54\n",
            "  55  56  57  58  59  60  61  62  63  64  65  66  67  68  69  70  71  72\n",
            "  73  74  75  76  77  78  79  80  81  82  83  84  85  86  87  88  89  90\n",
            "  91  92  93  94  95  96  97  98  99 100]\n"
          ]
        }
      ],
      "source": [
        "import numpy as np\n",
        "range_arr = np.arange(1,101)\n",
        "print(range_arr)"
      ]
    },
    {
      "cell_type": "code",
      "execution_count": null,
      "metadata": {
        "colab": {
          "base_uri": "https://localhost:8080/"
        },
        "id": "wSzV2iwlzLTa",
        "outputId": "2872c9a7-2455-4a83-c8dd-0e20e24cf623"
      },
      "outputs": [
        {
          "name": "stdout",
          "output_type": "stream",
          "text": [
            "[ 1.     2.125  3.25   4.375  5.5    6.625  7.75   8.875 10.   ]\n"
          ]
        }
      ],
      "source": [
        "import numpy as np\n",
        "lin_space = np.linspace(1,10,9)\n",
        "print(lin_space)\n"
      ]
    },
    {
      "cell_type": "code",
      "execution_count": null,
      "metadata": {
        "colab": {
          "base_uri": "https://localhost:8080/"
        },
        "id": "cUU_9o0GwfJF",
        "outputId": "28dd4e04-129f-45bb-cacb-a38a603cedaf"
      },
      "outputs": [
        {
          "name": "stdout",
          "output_type": "stream",
          "text": [
            "[[0. 0. 0. 0. 0.]\n",
            " [0. 0. 0. 0. 0.]\n",
            " [0. 0. 0. 0. 0.]]\n"
          ]
        }
      ],
      "source": [
        "import numpy as np\n",
        "zeros = np.zeros((3,5))\n",
        "print(zeros)"
      ]
    },
    {
      "cell_type": "code",
      "execution_count": null,
      "metadata": {
        "colab": {
          "base_uri": "https://localhost:8080/"
        },
        "id": "lx_C5bbKwfge",
        "outputId": "1032ac37-7eef-4536-d9c3-d961bb376100"
      },
      "outputs": [
        {
          "name": "stdout",
          "output_type": "stream",
          "text": [
            "[[1. 1. 1. 1. 1.]\n",
            " [1. 1. 1. 1. 1.]\n",
            " [1. 1. 1. 1. 1.]]\n"
          ]
        }
      ],
      "source": [
        "import numpy as np\n",
        "zeros = np.ones((3,5))\n",
        "print(zeros)"
      ]
    },
    {
      "cell_type": "code",
      "execution_count": null,
      "metadata": {
        "colab": {
          "base_uri": "https://localhost:8080/"
        },
        "id": "rSXZqPQ6xDL2",
        "outputId": "f9a7dea5-4245-4c92-cbea-34b77fcb9725"
      },
      "outputs": [
        {
          "name": "stdout",
          "output_type": "stream",
          "text": [
            "[[1. 0. 0. 0. 0. 0.]\n",
            " [0. 1. 0. 0. 0. 0.]\n",
            " [0. 0. 1. 0. 0. 0.]\n",
            " [0. 0. 0. 1. 0. 0.]\n",
            " [0. 0. 0. 0. 1. 0.]\n",
            " [0. 0. 0. 0. 0. 1.]]\n"
          ]
        }
      ],
      "source": [
        "import numpy as np\n",
        "zeros = np.eye(6)\n",
        "print(zeros)"
      ]
    },
    {
      "cell_type": "code",
      "execution_count": null,
      "metadata": {
        "colab": {
          "base_uri": "https://localhost:8080/"
        },
        "id": "JbQcc7D80UWs",
        "outputId": "bdd7a299-697c-43c4-fea3-2b81ba77875a"
      },
      "outputs": [
        {
          "name": "stdout",
          "output_type": "stream",
          "text": [
            "[[10  2 10 32 48 47 33 30 38 29 10 29 28 44 27  8 23 34 39 14 19 30 47 30\n",
            "  38 41  9  7 34  8 31 19  7  8 14 40 23 47 27  4]\n",
            " [24  3 12 24 47  2  8 11  1 13 46 48 41 23 15 37 12 13 41 22 44 33 41 23\n",
            "  46 34 28 24  7 23 33 37 19 43 17 41 48 18  3 31]\n",
            " [49  9 48 34 11 22  3 15  4  6 30  2 36 20 23 47 45  7 22 46  7  6 49 23\n",
            "  34 28 37 21 20  3 20 42 14  7 21 49  8 41 36 41]]\n"
          ]
        }
      ],
      "source": [
        "import numpy as np\n",
        "rand_int = np.random.randint(1,50,(3,40))\n",
        "print(rand_int)"
      ]
    },
    {
      "cell_type": "code",
      "execution_count": null,
      "metadata": {
        "colab": {
          "base_uri": "https://localhost:8080/"
        },
        "id": "-pAMhmAi1X_2",
        "outputId": "7366dd26-09be-4a5a-f2bf-e809b64edd9f"
      },
      "outputs": [
        {
          "name": "stdout",
          "output_type": "stream",
          "text": [
            "[[0.08981395 0.33159306 0.13253491 0.2319952  0.61445592 0.55461439\n",
            "  0.24685169]\n",
            " [0.82175119 0.34658323 0.22852504 0.11761506 0.20925935 0.27374539\n",
            "  0.46595011]\n",
            " [0.79006729 0.44463417 0.59139755 0.02831896 0.79848579 0.59105853\n",
            "  0.7016767 ]\n",
            " [0.10996848 0.48002304 0.33524637 0.24682558 0.87370734 0.57931809\n",
            "  0.95776577]\n",
            " [0.09837871 0.76519839 0.12491735 0.30820935 0.77419896 0.1450875\n",
            "  0.2371777 ]\n",
            " [0.32092407 0.28321694 0.30097401 0.8298553  0.31786254 0.37181678\n",
            "  0.28958087]\n",
            " [0.18101273 0.63701233 0.67519334 0.3071504  0.85678492 0.57039653\n",
            "  0.68609554]]\n"
          ]
        }
      ],
      "source": [
        "import numpy as np\n",
        "rand_float = np.random.rand(7,7)\n",
        "print(rand_float)"
      ]
    },
    {
      "cell_type": "code",
      "execution_count": null,
      "metadata": {
        "colab": {
          "base_uri": "https://localhost:8080/"
        },
        "id": "uOiUOzVa2CPe",
        "outputId": "b556e331-2331-49c7-9795-74db155e802d"
      },
      "outputs": [
        {
          "name": "stdout",
          "output_type": "stream",
          "text": [
            "[[ 0.45235881  0.86931561  0.52180248]\n",
            " [ 0.11998151 -0.31865217  0.98374309]\n",
            " [ 1.04666711  0.83761862 -0.29100892]]\n"
          ]
        }
      ],
      "source": [
        "import numpy as np\n",
        "rand_norm = np.random.randn(3,3)\n",
        "print(rand_norm)"
      ]
    },
    {
      "cell_type": "code",
      "execution_count": null,
      "metadata": {
        "colab": {
          "base_uri": "https://localhost:8080/"
        },
        "id": "SOebNcLQ2x3u",
        "outputId": "58de29ca-0023-479c-a073-34cd130180ed"
      },
      "outputs": [
        {
          "name": "stdout",
          "output_type": "stream",
          "text": [
            "['dattu' 'saradhi' 'paila']\n"
          ]
        }
      ],
      "source": [
        "import numpy as np\n",
        "rand_choice = np.random.choice(['pardhu','paila','manoj','dattu','saradhi'],3)\n",
        "print(rand_choice)"
      ]
    },
    {
      "cell_type": "code",
      "execution_count": null,
      "metadata": {
        "colab": {
          "base_uri": "https://localhost:8080/"
        },
        "id": "_vxK1qu53b6S",
        "outputId": "4937910e-8e55-4230-f31b-d53c8c489c24"
      },
      "outputs": [
        {
          "name": "stdout",
          "output_type": "stream",
          "text": [
            "2\n"
          ]
        }
      ],
      "source": [
        "import numpy as np\n",
        "np.random.seed(42)\n",
        "rand_arr = np.random.randint(6)\n",
        "print(rand_arr)"
      ]
    },
    {
      "cell_type": "code",
      "execution_count": null,
      "metadata": {
        "colab": {
          "base_uri": "https://localhost:8080/"
        },
        "id": "cI4UEdvw4POI",
        "outputId": "097a057a-5b39-46d3-b680-f9275497e103"
      },
      "outputs": [
        {
          "name": "stdout",
          "output_type": "stream",
          "text": [
            "(3, 5)\n"
          ]
        }
      ],
      "source": [
        "import numpy as np\n",
        "arr = np.array([[1,23,4,5,8],[1,6,4,8,6],[4,6,5,6,7]])\n",
        "print(arr.shape)"
      ]
    },
    {
      "cell_type": "code",
      "execution_count": null,
      "metadata": {
        "colab": {
          "base_uri": "https://localhost:8080/"
        },
        "id": "XDxnkq2L51D5",
        "outputId": "f886bdb8-bb42-46d0-dc22-8201dc61a26f"
      },
      "outputs": [
        {
          "name": "stdout",
          "output_type": "stream",
          "text": [
            "[[ 1 23  4  5  8]\n",
            " [ 1  6  4  8  6]\n",
            " [ 4  6  5  6  7]]\n"
          ]
        }
      ],
      "source": [
        "import numpy as np\n",
        "\n",
        "arr = np.array([1, 23, 4, 5, 8, 1, 6, 4, 8, 6, 4, 6, 5, 6, 7])  # 15 elements\n",
        "reshaped = arr.reshape(3, 5)  # reshape into 3x5 matrix\n",
        "print(reshaped)\n"
      ]
    },
    {
      "cell_type": "code",
      "execution_count": null,
      "metadata": {
        "colab": {
          "base_uri": "https://localhost:8080/"
        },
        "id": "qi-RkErg7Onp",
        "outputId": "f3023d55-7a91-4a22-d1cc-47f35487d4fc"
      },
      "outputs": [
        {
          "name": "stdout",
          "output_type": "stream",
          "text": [
            "[[1 4]\n",
            " [2 5]\n",
            " [3 6]]\n"
          ]
        }
      ],
      "source": [
        "import numpy as np\n",
        "\n",
        "arr = np.array([[1, 2, 3],\n",
        "                [4, 5, 6]])\n",
        "transposed = arr.T\n",
        "print(transposed)\n"
      ]
    },
    {
      "cell_type": "code",
      "execution_count": null,
      "metadata": {
        "colab": {
          "base_uri": "https://localhost:8080/"
        },
        "id": "vhMBzupB8jY1",
        "outputId": "88056733-8b63-4ccd-bb93-da5fb7b60d13"
      },
      "outputs": [
        {
          "name": "stdout",
          "output_type": "stream",
          "text": [
            "60\n",
            "[30 60 90]\n",
            "[[40 50]]\n"
          ]
        }
      ],
      "source": [
        "import numpy as np\n",
        "matrix = np.array([[10,20,30],[40,50,60],[70,80,90]])\n",
        "print(matrix[1,2])\n",
        "print(matrix[:,2])\n",
        "print(matrix[1:2,0:2])\n",
        "\n"
      ]
    },
    {
      "cell_type": "code",
      "execution_count": null,
      "metadata": {
        "colab": {
          "base_uri": "https://localhost:8080/"
        },
        "id": "5nf43PHh9sGt",
        "outputId": "9dce53e5-1b30-41c2-d33e-c2a34623b76c"
      },
      "outputs": [
        {
          "name": "stdout",
          "output_type": "stream",
          "text": [
            "[ 5 10  7  6]\n",
            "[ 8 18 12 10]\n",
            "[16 81 36 25]\n",
            "[2.         3.         2.44948974 2.23606798]\n"
          ]
        }
      ],
      "source": [
        "import numpy as np\n",
        "arr = np.array([4,9,6,5])\n",
        "print(arr + 1)\n",
        "print(arr * 2)\n",
        "print(arr ** 2)\n",
        "print(np.sqrt(arr))"
      ]
    },
    {
      "cell_type": "code",
      "execution_count": 3,
      "metadata": {
        "colab": {
          "base_uri": "https://localhost:8080/"
        },
        "id": "LStOld-v-HFa",
        "outputId": "b6b9718b-9697-4042-9cd1-bd979a5729fa"
      },
      "outputs": [
        {
          "name": "stdout",
          "output_type": "stream",
          "text": [
            "24\n",
            "6.0\n",
            "5.5\n"
          ]
        }
      ],
      "source": [
        "import numpy as np\n",
        "arr = np.array([4,9,6,5])\n",
        "print(np.sum(arr))\n",
        "print(np.mean(arr))\n",
        "print(np.median(arr))"
      ]
    },
    {
      "cell_type": "code",
      "execution_count": null,
      "metadata": {
        "colab": {
          "base_uri": "https://localhost:8080/"
        },
        "id": "RpU_nUIC-diA",
        "outputId": "7dc6d5e3-fd9b-4f95-9cd5-4aefc6a98e8a"
      },
      "outputs": [
        {
          "name": "stdout",
          "output_type": "stream",
          "text": [
            "1.8708286933869707\n",
            "4\n",
            "9\n"
          ]
        }
      ],
      "source": [
        "import numpy as np\n",
        "arr = np.array([4,9,6,5])\n",
        "print(np.std(arr))\n",
        "print(np.min(arr))\n",
        "print(np.max(arr))"
      ]
    },
    {
      "cell_type": "code",
      "execution_count": null,
      "metadata": {
        "colab": {
          "base_uri": "https://localhost:8080/"
        },
        "id": "MCAuUifF_BsQ",
        "outputId": "ae40d6d2-81fe-4547-e043-d87fed7dd921"
      },
      "outputs": [
        {
          "name": "stdout",
          "output_type": "stream",
          "text": [
            "[ 4 13 19 24]\n",
            "[   4   36  216 1080]\n"
          ]
        }
      ],
      "source": [
        "import numpy as np\n",
        "arr = np.array([4,9,6,5])\n",
        "print(np.cumsum(arr))\n",
        "print(np.cumprod(arr))\n"
      ]
    },
    {
      "cell_type": "code",
      "execution_count": null,
      "metadata": {
        "colab": {
          "base_uri": "https://localhost:8080/"
        },
        "id": "rGUG6EZJ_vzF",
        "outputId": "80c1ae74-69a5-4445-ef6b-784b141d1b4f"
      },
      "outputs": [
        {
          "name": "stdout",
          "output_type": "stream",
          "text": [
            "[ True False False False]\n",
            "[10]\n",
            "[False  True  True False]\n"
          ]
        }
      ],
      "source": [
        "import numpy as np\n",
        "arr = np.array([10,90,60,50])\n",
        "print(arr <=30)\n",
        "print(arr[arr <=30])\n",
        "print(arr % 3==0)\n",
        "\n"
      ]
    },
    {
      "cell_type": "code",
      "execution_count": null,
      "metadata": {
        "colab": {
          "base_uri": "https://localhost:8080/"
        },
        "id": "qpiYLqooAgGQ",
        "outputId": "bf9018b4-a7dd-471f-b3d2-5d118ad9cf2d"
      },
      "outputs": [
        {
          "name": "stdout",
          "output_type": "stream",
          "text": [
            "[ 1  4  5  6  9  9 12]\n"
          ]
        }
      ],
      "source": [
        "import numpy as np\n",
        "arr = np.array([1,9,6,5,4,9,12])\n",
        "sorted_arr = np.sort(arr)\n",
        "print(sorted_arr)\n"
      ]
    },
    {
      "cell_type": "code",
      "execution_count": null,
      "metadata": {
        "id": "WrzJaOFmygEs"
      },
      "outputs": [],
      "source": [
        "unique_vals = np.unique(arr)\n",
        "print(unique_vals)"
      ]
    },
    {
      "cell_type": "code",
      "execution_count": null,
      "metadata": {
        "colab": {
          "base_uri": "https://localhost:8080/"
        },
        "id": "236apDBvBa0q",
        "outputId": "9243a70b-79db-4826-8108-80d8ce403857"
      },
      "outputs": [
        {
          "name": "stdout",
          "output_type": "stream",
          "text": [
            "[10 90 60 50] [10 90 60 50]\n",
            "[10 90 60 50] [10 90 60 50]\n"
          ]
        }
      ],
      "source": [
        "import numpy as np\n",
        "arr = np.array([10,90,60,50])\n",
        "view_arr = arr.view()\n",
        "print(arr,view_arr)\n",
        "\n",
        "view_arr = arr.copy()\n",
        "print(arr,view_arr)\n",
        "\n"
      ]
    },
    {
      "cell_type": "code",
      "execution_count": null,
      "metadata": {
        "id": "R51ijQjaymzB"
      },
      "outputs": [],
      "source": [
        "A = np.array([[1, 2], [3, 4]])\n",
        "B = np.array([[5, 6], [7, 8]])\n",
        "# Matrix multiplication\n",
        "print(np.dot(A, B))\n",
        "# Determinant\n",
        "print(np.linalg.det(A))\n",
        "# Inverse\n",
        "print(np.linalg.inv(A))\n",
        "# Eigenvalues and eigenvectors\n",
        "eigenvalues, eigenvectors = np.linalg.eig(A)\n",
        "print(eigenvalues)\n",
        "print(eigenvectors)\n",
        "# Solving linear equations (Ax = B)\n",
        "C = np.array([5, 11])\n",
        "solution = np.linalg.solve(A, C)\n",
        "print(solution)\n"
      ]
    },
    {
      "cell_type": "code",
      "execution_count": null,
      "metadata": {
        "colab": {
          "base_uri": "https://localhost:8080/"
        },
        "id": "gYuQcjns6ojk",
        "outputId": "1e1a75e7-0c23-4e5b-baa3-4f7d98631917"
      },
      "outputs": [
        {
          "name": "stdout",
          "output_type": "stream",
          "text": [
            "[[1 2]\n",
            " [3 4]\n",
            " [5 6]\n",
            " [7 8]]\n",
            "[[1 2 5 6]\n",
            " [3 4 7 8]]\n"
          ]
        }
      ],
      "source": [
        "import numpy as np\n",
        "a = np.array([[1,2],[3,4]])\n",
        "b = np.array([[5,6],[7,8]])\n",
        "vertical_stack = np.vstack((a,b))\n",
        "horizontal_stack = np.hstack((a,b))\n",
        "print(vertical_stack)\n",
        "print(horizontal_stack)\n"
      ]
    },
    {
      "cell_type": "code",
      "execution_count": null,
      "metadata": {
        "id": "uQFuii6CysJX"
      },
      "outputs": [],
      "source": [
        "A = np.array([[1, 2], [3, 4]])\n",
        "B = np.array([[5, 6], [7, 8]])\n",
        "# Stacking arrays vertically and horizontally\n",
        "vertical_stack = np.vstack((A, B))\n",
        "horizontal_stack = np.hstack((A, B))\n",
        "print(vertical_stack)\n",
        "print(horizontal_stack)\n",
        "# Splitting arrays\n",
        "split_arr = np.split(np.array([1, 2, 3, 4, 5, 6]), 2)\n",
        "print(split_arr)"
      ]
    },
    {
      "cell_type": "code",
      "execution_count": null,
      "metadata": {
        "colab": {
          "base_uri": "https://localhost:8080/"
        },
        "id": "317WXEc18XH7",
        "outputId": "62e47c89-e8bb-41df-d921-11d434ca8620"
      },
      "outputs": [
        {
          "name": "stdout",
          "output_type": "stream",
          "text": [
            "wireess Ear buds      2999\n",
            "smart phones         15999\n",
            "Laptop               52999\n",
            "smartwatch            4999\n",
            "Bluetooth speaker     1999\n",
            "dtype: int64\n"
          ]
        }
      ],
      "source": [
        "import pandas as pd\n",
        "prices =[2999,15999,52999,4999,1999]\n",
        "products = [\"wireess Ear buds\",\"smart phones\",\"Laptop\",\"smartwatch\",\"Bluetooth speaker\"]\n",
        "product_prices = pd.Series(prices,index=products)\n",
        "print(product_prices)"
      ]
    },
    {
      "cell_type": "code",
      "execution_count": null,
      "metadata": {
        "colab": {
          "base_uri": "https://localhost:8080/"
        },
        "id": "Z50RrnAQ_7Aw",
        "outputId": "8f4c1793-1f87-47ef-96b3-00a7d13bb04e"
      },
      "outputs": [
        {
          "name": "stdout",
          "output_type": "stream",
          "text": [
            "max: 52999\n",
            "min: 1999\n",
            "mean: 15799.0\n",
            "median: 4999.0\n",
            "std: 21533.69452741447\n",
            "78995\n"
          ]
        }
      ],
      "source": [
        "print(\"max:\",product_prices.max())\n",
        "print(\"min:\",product_prices.min())\n",
        "print(\"mean:\",product_prices.mean())\n",
        "print(\"median:\",product_prices.median())\n",
        "print(\"std:\",product_prices.std())\n",
        "print(sum(product_prices))"
      ]
    },
    {
      "cell_type": "markdown",
      "metadata": {
        "id": "CfRJyADh_ydz"
      },
      "source": [
        "PANDAS LIBRARY\n"
      ]
    },
    {
      "cell_type": "code",
      "execution_count": null,
      "metadata": {
        "colab": {
          "base_uri": "https://localhost:8080/"
        },
        "id": "Ly9FoUkyBDDw",
        "outputId": "2ca47ebe-6e30-4cd4-b00e-06833c43e324"
      },
      "outputs": [
        {
          "name": "stdout",
          "output_type": "stream",
          "text": [
            "Map (formatting as cuurency):\n",
            " wireess Ear buds      ₹2999\n",
            "smart phones         ₹15999\n",
            "Laptop               ₹52999\n",
            "smartwatch            ₹4999\n",
            "Bluetooth speaker     ₹1999\n",
            "dtype: object\n",
            "Sort by values:\n",
            " Bluetooth speaker     1999\n",
            "wireess Ear buds      2999\n",
            "smartwatch            4999\n",
            "smart phones         15999\n",
            "Laptop               52999\n",
            "dtype: int64\n",
            "Sort by index:\n",
            " Bluetooth speaker     1999\n",
            "Laptop               52999\n",
            "smart phones         15999\n",
            "smartwatch            4999\n",
            "wireess Ear buds      2999\n",
            "dtype: int64\n",
            "Laptop               52999\n",
            "smart phones         15999\n",
            "smartwatch            4999\n",
            "wireess Ear buds      2999\n",
            "Bluetooth speaker     1999\n",
            "dtype: int64\n",
            "value Counts:\n",
            " 2999     1\n",
            "15999    1\n",
            "52999    1\n",
            "4999     1\n",
            "1999     1\n",
            "Name: count, dtype: int64\n"
          ]
        }
      ],
      "source": [
        "print(\"Map (formatting as cuurency):\\n\", product_prices.map(lambda p: f\"₹{p}\"))\n",
        "print(\"Sort by values:\\n\", product_prices.sort_values())\n",
        "print(\"Sort by index:\\n\", product_prices.sort_index())\n",
        "print(product_prices.sort_values(ascending=False))\n",
        "print(\"value Counts:\\n\", product_prices.value_counts())"
      ]
    },
    {
      "cell_type": "code",
      "execution_count": 5,
      "metadata": {
        "colab": {
          "base_uri": "https://localhost:8080/"
        },
        "id": "uhqs7oWAFQv2",
        "outputId": "c3b93d74-54a5-4675-f9be-467979b5bfd4"
      },
      "outputs": [
        {
          "name": "stdout",
          "output_type": "stream",
          "text": [
            "            products  prices      Brand  Stock  BestSeller\n",
            "0   wireess Ear buds    2999  sound max     50        True\n",
            "1       smart phones   15999  Technovia     30       False\n",
            "2             Laptop   52999    Bytcore     40        True\n",
            "3         smartwatch    4999  Timetrack     80        True\n",
            "4  Bluetooth speaker    1999   EchoBoom     30       False\n"
          ]
        }
      ],
      "source": [
        "import pandas as pd\n",
        "data = {\n",
        "    \"products\" : [\"wireess Ear buds\",\"smart phones\",\"Laptop\",\"smartwatch\",\"Bluetooth speaker\"],\n",
        "    \"prices\" : [2999,15999,52999,4999,1999],\n",
        "    \"Brand\" : [\"sound max\",\"Technovia\",\"Bytcore\",\"Timetrack\",\"EchoBoom\"],\n",
        "    \"Stock\" : [50,30,40,80,30],\n",
        "    \"BestSeller\" : [True,False,True,True,False]\n",
        "}\n",
        "df = pd.DataFrame(data)\n",
        "print(df)\n",
        "\n"
      ]
    },
    {
      "cell_type": "code",
      "execution_count": 6,
      "metadata": {
        "colab": {
          "base_uri": "https://localhost:8080/"
        },
        "id": "I4b1IJVWGhLh",
        "outputId": "e09cd4e8-9cff-4e7a-c17d-18ef0930d28c"
      },
      "outputs": [
        {
          "name": "stdout",
          "output_type": "stream",
          "text": [
            "(5, 5)\n",
            "Index(['products', 'prices', 'Brand', 'Stock', 'BestSeller'], dtype='object')\n",
            "RangeIndex(start=0, stop=5, step=1)\n",
            "<class 'pandas.core.frame.DataFrame'>\n",
            "RangeIndex: 5 entries, 0 to 4\n",
            "Data columns (total 5 columns):\n",
            " #   Column      Non-Null Count  Dtype \n",
            "---  ------      --------------  ----- \n",
            " 0   products    5 non-null      object\n",
            " 1   prices      5 non-null      int64 \n",
            " 2   Brand       5 non-null      object\n",
            " 3   Stock       5 non-null      int64 \n",
            " 4   BestSeller  5 non-null      bool  \n",
            "dtypes: bool(1), int64(2), object(2)\n",
            "memory usage: 297.0+ bytes\n",
            "None\n",
            "             prices      Stock\n",
            "count      5.000000   5.000000\n",
            "mean   15799.000000  46.000000\n",
            "std    21533.694527  20.736441\n",
            "min     1999.000000  30.000000\n",
            "25%     2999.000000  30.000000\n",
            "50%     4999.000000  40.000000\n",
            "75%    15999.000000  50.000000\n",
            "max    52999.000000  80.000000\n"
          ]
        }
      ],
      "source": [
        "print(df.shape)\n",
        "print(df.columns)\n",
        "print(df.index)\n",
        "print(df.info())\n",
        "print(df.describe())\n"
      ]
    },
    {
      "cell_type": "code",
      "execution_count": 7,
      "metadata": {
        "colab": {
          "base_uri": "https://localhost:8080/"
        },
        "id": "dTKbVgGGIboh",
        "outputId": "c6ecbc74-0dde-4930-f653-9b4323aac618"
      },
      "outputs": [
        {
          "name": "stdout",
          "output_type": "stream",
          "text": [
            "            products  prices      Brand  Stock  BestSeller\n",
            "0   wireess Ear buds    2999  sound max     50        True\n",
            "1       smart phones   15999  Technovia     30       False\n",
            "2             Laptop   52999    Bytcore     40        True\n",
            "3         smartwatch    4999  Timetrack     80        True\n",
            "4  Bluetooth speaker    1999   EchoBoom     30       False\n",
            "            products  prices      Brand  Stock  BestSeller\n",
            "0   wireess Ear buds    2999  sound max     50        True\n",
            "1       smart phones   15999  Technovia     30       False\n",
            "2             Laptop   52999    Bytcore     40        True\n",
            "3         smartwatch    4999  Timetrack     80        True\n",
            "4  Bluetooth speaker    1999   EchoBoom     30       False\n"
          ]
        }
      ],
      "source": [
        "\n",
        "print(df.head())\n",
        "print(df.tail())"
      ]
    },
    {
      "cell_type": "code",
      "execution_count": 9,
      "metadata": {
        "colab": {
          "base_uri": "https://localhost:8080/"
        },
        "id": "u26yWU03JTVV",
        "outputId": "ef15e650-e23f-43d8-eff2-6913ee25302b"
      },
      "outputs": [
        {
          "name": "stdout",
          "output_type": "stream",
          "text": [
            "       products  prices      Brand  Stock  BestSeller\n",
            "1  smart phones   15999  Technovia     30       False\n"
          ]
        }
      ],
      "source": [
        "print(df.loc[df['Brand'] == 'Technovia'])\n"
      ]
    },
    {
      "cell_type": "code",
      "execution_count": null,
      "metadata": {
        "colab": {
          "base_uri": "https://localhost:8080/"
        },
        "id": "Xj6etmFwKA58",
        "outputId": "d111245d-0ec3-42e7-a324-60ddbfcaa343"
      },
      "outputs": [
        {
          "name": "stdout",
          "output_type": "stream",
          "text": [
            "            products  prices      Brand  Stock  BestSeller\n",
            "0   wireess Ear buds    2999  sound max     50        True\n",
            "4  Bluetooth speaker    1999   EchoBoom     30       False\n",
            "            products  prices      Brand  Stock  BestSeller\n",
            "0   wireess Ear buds    2999  sound max     50        True\n",
            "1       smart phones   15999  Technovia     30       False\n",
            "2             Laptop   52999    Bytcore     40        True\n",
            "4  Bluetooth speaker    1999   EchoBoom     30       False\n"
          ]
        }
      ],
      "source": [
        "print(df.loc[df['prices'] < 4000])\n",
        "print(df.loc[df['Stock'] <= 50])"
      ]
    },
    {
      "cell_type": "code",
      "execution_count": 10,
      "metadata": {
        "id": "15rZYifbywOx"
      },
      "outputs": [
        {
          "data": {
            "image/png": "[encoded data removed]",
            "text/plain": [
              "<Figure size 640x480 with 1 Axes>"
            ]
          },
          "metadata": {},
          "output_type": "display_data"
        }
      ],
      "source": [
        "import matplotlib.pyplot as plt\n",
        "import numpy as np\n",
        "x = np.array([30,6,8,12,15,18,20,22,25])\n",
        "y = np.array([20,50,70,61,81,40,70,60,40])\n",
        "plt.plot(x,y,color='red',linestyle='--', linewidth=5,marker='o',markersize=8,markerfacecolor='green')\n",
        "\n",
        "plt.xlabel(\"----X-label----\")\n",
        "plt.ylabel(\"----y-label----\")\n",
        "plt.title(\"----LINE PLOT Example----\")\n",
        "plt.grid(True)\n",
        "plt.show()"
      ]
    },
    {
      "cell_type": "code",
      "execution_count": null,
      "metadata": {
        "id": "1-qcVqXey1n9"
      },
      "outputs": [],
      "source": [
        "import matplotlib.pyplot as plt\n",
        "import numpy as np\n",
        "categories = ['laptop','perfume','smart phones','watch']\n",
        "sales = [50,70,50,20]\n",
        "plt.bar(categories, sales, color='yellow',edgecolor='green',linewidth = 2 , alpha = 0.8)\n",
        "plt.xlabel(\"----X-label----\")\n",
        "plt.ylabel(\"----y-label----\")\n",
        "plt.title(\"----BAR PLOT Example----\")\n",
        "plt.grid(True)\n",
        "plt.show()"
      ]
    },
    {
      "cell_type": "code",
      "execution_count": null,
      "metadata": {
        "id": "4fKqHew0y484"
      },
      "outputs": [],
      "source": [
        "import matplotlib.pyplot as plt\n",
        "import numpy as np\n",
        "data =  np.array([1,2,3,4,5,6,7,8,9,10])\n",
        "plt.hist(data ,bins = 10, color='yellow',edgecolor='green', alpha = 0.8)\n",
        "plt.xlabel(\"----X-label----\")\n",
        "plt.ylabel(\"----y-label----\")\n",
        "plt.title(\"----HISTOGRAM Example----\")\n",
        "plt.grid(True)\n",
        "plt.show()"
      ]
    },
    {
      "cell_type": "code",
      "execution_count": null,
      "metadata": {
        "id": "uzy2qRTpy7iV"
      },
      "outputs": [],
      "source": [
        "import matplotlib.pyplot as plt\n",
        "import numpy as np\n",
        "\n",
        "x = np.random.rand(50)\n",
        "y = np.random.rand(50)\n",
        "sizes = np.random.randint(10, 100, 50)\n",
        "colors = np.random.rand(50)\n",
        "\n",
        "plt.scatter(x, y, s=sizes, c=colors, cmap='plasma',\n",
        "            alpha=0.8, edgecolors='black')\n",
        "plt.colorbar(label='Color Scale')\n",
        "plt.xlabel('X Values')\n",
        "plt.ylabel('Y Values')\n",
        "plt.title('Scatter Plot Example')\n",
        "plt.show()"
      ]
    },
    {
      "cell_type": "code",
      "execution_count": null,
      "metadata": {
        "id": "x27ZwfIvy_Y5"
      },
      "outputs": [],
      "source": [
        "import matplotlib.pyplot as plt\n",
        "\n",
        "batches = ['PFS-30', 'DS-15', 'DA-14', 'PFS-31']\n",
        "sizes = [53, 16, 18, 17]\n",
        "colors = ['red', 'yellow', 'pink', 'brown']\n",
        "\n",
        "plt.pie(sizes, labels=batches, colors=colors, autopct='%1.2f%%',\n",
        "        startangle=90, explode=[0, 0, 0.1, 0])\n",
        "plt.title(\"Pie Chart Example\")\n",
        "plt.show()\n"
      ]
    },
    {
      "cell_type": "code",
      "execution_count": null,
      "metadata": {
        "id": "G-DwhDslzAHA"
      },
      "outputs": [],
      "source": [
        "import matplotlib.pyplot as plt\n",
        "import numpy as np\n",
        "\n",
        "data = [np.random.randn(100),\n",
        "        np.random.randn(100) * 2,\n",
        "        np.random.randn(100) * 1.5]\n",
        "\n",
        "plt.boxplot(data, labels=['Group 1', 'Group 2', 'Group 3'],\n",
        "            patch_artist=True,\n",
        "            boxprops=dict(facecolor=\"lightblue\"))\n",
        "\n",
        "plt.title(\"Box Plot Example\")\n",
        "plt.show()\n"
      ]
    },
    {
      "cell_type": "code",
      "execution_count": null,
      "metadata": {
        "id": "njIBin3fzEJj"
      },
      "outputs": [],
      "source": [
        "import matplotlib.pyplot as plt\n",
        "import seaborn as sns\n",
        "import numpy as np\n",
        "\n",
        "data = np.random.rand(10, 10)\n",
        "sns.heatmap(data, annot=True, cmap=\"coolwarm\")\n",
        "plt.title(\"Heatmap Example\")\n",
        "plt.show()\n"
      ]
    },
    {
      "cell_type": "code",
      "execution_count": null,
      "metadata": {
        "id": "lRe0Y-adzGib"
      },
      "outputs": [],
      "source": [
        "import matplotlib.pyplot as plt\n",
        "import numpy as np\n",
        "from mpl_toolkits.mplot3d import Axes3D\n",
        "\n",
        "fig = plt.figure()\n",
        "ax = fig.add_subplot(111, projection='3d')\n",
        "\n",
        "x = np.random.rand(50)\n",
        "y = np.random.rand(50)\n",
        "z = np.random.rand(50)\n",
        "\n",
        "ax.scatter(x, y, z, c='red', marker='o')\n",
        "ax.set_xlabel(\"X Axis\")\n",
        "ax.set_ylabel(\"Y Axis\")\n",
        "ax.set_zlabel(\"Z Axis\")\n",
        "ax.set_title(\"3D Scatter Plot Example\")\n",
        "plt.show()\n"
      ]
    },
    {
      "cell_type": "code",
      "execution_count": null,
      "metadata": {
        "id": "IeF-_G2uzI-U"
      },
      "outputs": [],
      "source": [
        "import matplotlib.pyplot as plt\n",
        "import numpy as np\n",
        "\n",
        "x = np.linspace(0, 10, 100)\n",
        "y = np.sin(x)\n",
        "categories = ['A', 'B', 'C', 'D']\n",
        "values = [10, 20, 15, 30]\n",
        "data = np.random.randn(100)\n",
        "\n",
        "fig, axs = plt.subplots(2, 2, figsize=(8, 8))\n",
        "\n",
        "axs[0, 0].plot(x, y, 'b--')\n",
        "axs[0, 0].set_title(\"Line Plot\")\n",
        "\n",
        "axs[0, 1].bar(categories, values, color='purple')\n",
        "axs[0, 1].set_title(\"Bar Chart\")\n",
        "\n",
        "axs[1, 0].scatter(np.random.rand(20), np.random.rand(20), color='green')\n",
        "axs[1, 0].set_title(\"Scatter Plot\")\n",
        "\n",
        "axs[1, 1].hist(data, bins=20, color='orange')\n",
        "axs[1, 1].set_title(\"Histogram\")\n",
        "\n",
        "plt.tight_layout()\n",
        "plt.show()\n"
      ]
    },
    {
      "cell_type": "code",
      "execution_count": 1,
      "metadata": {
        "id": "ThEzUEDDzJ-Y"
      },
      "outputs": [
        {
          "ename": "ModuleNotFoundError",
          "evalue": "No module named 'matplotlib'",
          "output_type": "error",
          "traceback": [
            "\u001b[31m---------------------------------------------------------------------------\u001b[39m",
            "\u001b[31mModuleNotFoundError\u001b[39m                       Traceback (most recent call last)",
            "\u001b[36mCell\u001b[39m\u001b[36m \u001b[39m\u001b[32mIn[1]\u001b[39m\u001b[32m, line 1\u001b[39m\n\u001b[32m----> \u001b[39m\u001b[32m1\u001b[39m \u001b[38;5;28;01mimport\u001b[39;00m\u001b[38;5;250m \u001b[39m\u001b[34;01mmatplotlib\u001b[39;00m\u001b[34;01m.\u001b[39;00m\u001b[34;01mpyplot\u001b[39;00m\u001b[38;5;250m \u001b[39m\u001b[38;5;28;01mas\u001b[39;00m\u001b[38;5;250m \u001b[39m\u001b[34;01mplt\u001b[39;00m\n\u001b[32m      2\u001b[39m \u001b[38;5;28;01mimport\u001b[39;00m\u001b[38;5;250m \u001b[39m\u001b[34;01mnumpy\u001b[39;00m\u001b[38;5;250m \u001b[39m\u001b[38;5;28;01mas\u001b[39;00m\u001b[38;5;250m \u001b[39m\u001b[34;01mnp\u001b[39;00m\n\u001b[32m      4\u001b[39m x = np.linspace(\u001b[32m0\u001b[39m, \u001b[32m10\u001b[39m, \u001b[32m100\u001b[39m)\n",
            "\u001b[31mModuleNotFoundError\u001b[39m: No module named 'matplotlib'"
          ]
        }
      ],
      "source": [
        "import matplotlib.pyplot as plt\n",
        "import numpy as np\n",
        "\n",
        "x = np.linspace(0, 10, 100)\n",
        "y = np.sin(x)\n",
        "values = [10, 20, 15, 30]\n",
        "categories = ['A', 'B', 'C', 'D']\n",
        "data = np.random.randn(100)\n",
        "\n",
        "fig, axs = plt.subplots(2, 3, figsize=(12, 6))\n",
        "\n",
        "# Line plot\n",
        "axs[0, 0].plot(x, y, 'b--')\n",
        "axs[0, 0].set_title(\"Line Plot\")\n",
        "\n",
        "# Bar chart\n",
        "axs[0, 1].bar(categories, values, color='purple')\n",
        "axs[0, 1].set_title(\"Bar Chart\")\n",
        "\n",
        "# Histogram\n",
        "axs[0, 2].hist(data, bins=20, color='orange')\n",
        "axs[0, 2].set_title(\"Histogram\")\n",
        "\n",
        "# Scatter plot\n",
        "axs[1, 0].scatter(np.random.rand(20), np.random.rand(20), color='green')\n",
        "axs[1, 0].set_title(\"Scatter Plot\")\n",
        "\n",
        "# Pie chart\n",
        "axs[1, 1].pie(values, labels=categories, autopct='%1.1f%%', startangle=90)\n",
        "axs[1, 1].set_title(\"Pie Chart\")\n",
        "\n",
        "# Area chart\n",
        "y1 = np.linspace(1, 10, 10)\n",
        "y2 = np.linspace(2, 20, 10)\n",
        "axs[1, 2].fill_between(y1, y2, color=\"skyblue\", alpha=0.5)\n",
        "axs[1, 2].set_title(\"Area Chart\")\n",
        "\n",
        "plt.tight_layout()\n",
        "plt.show()\n"
      ]
    },
    {
      "cell_type": "code",
      "execution_count": 2,
      "metadata": {
        "id": "NiCOU36bzQ1K"
      },
      "outputs": [
        {
          "ename": "ModuleNotFoundError",
          "evalue": "No module named 'matplotlib'",
          "output_type": "error",
          "traceback": [
            "\u001b[31m---------------------------------------------------------------------------\u001b[39m",
            "\u001b[31mModuleNotFoundError\u001b[39m                       Traceback (most recent call last)",
            "\u001b[36mCell\u001b[39m\u001b[36m \u001b[39m\u001b[32mIn[2]\u001b[39m\u001b[32m, line 1\u001b[39m\n\u001b[32m----> \u001b[39m\u001b[32m1\u001b[39m \u001b[38;5;28;01mimport\u001b[39;00m\u001b[38;5;250m \u001b[39m\u001b[34;01mmatplotlib\u001b[39;00m\u001b[34;01m.\u001b[39;00m\u001b[34;01mpyplot\u001b[39;00m\u001b[38;5;250m \u001b[39m\u001b[38;5;28;01mas\u001b[39;00m\u001b[38;5;250m \u001b[39m\u001b[34;01mplt\u001b[39;00m\n\u001b[32m      2\u001b[39m \u001b[38;5;28;01mimport\u001b[39;00m\u001b[38;5;250m \u001b[39m\u001b[34;01mnumpy\u001b[39;00m\u001b[38;5;250m \u001b[39m\u001b[38;5;28;01mas\u001b[39;00m\u001b[38;5;250m \u001b[39m\u001b[34;01mnp\u001b[39;00m\n\u001b[32m      3\u001b[39m \u001b[38;5;28;01mimport\u001b[39;00m\u001b[38;5;250m \u001b[39m\u001b[34;01mseaborn\u001b[39;00m\u001b[38;5;250m \u001b[39m\u001b[38;5;28;01mas\u001b[39;00m\u001b[38;5;250m \u001b[39m\u001b[34;01msns\u001b[39;00m\n",
            "\u001b[31mModuleNotFoundError\u001b[39m: No module named 'matplotlib'"
          ]
        }
      ],
      "source": [
        "import matplotlib.pyplot as plt\n",
        "import numpy as np\n",
        "import seaborn as sns\n",
        "\n",
        "x = np.linspace(0, 10, 100)\n",
        "y = np.sin(x)\n",
        "values = [10, 20, 15, 30]\n",
        "categories = ['A', 'B', 'C', 'D']\n",
        "data = np.random.randn(100)\n",
        "\n",
        "fig, axs = plt.subplots(3, 3, figsize=(12, 12))\n",
        "\n",
        "# Line plot\n",
        "axs[0, 0].plot(x, y, 'r')\n",
        "axs[0, 0].set_title(\"Line Plot\")\n",
        "\n",
        "# Bar chart\n",
        "axs[0, 1].bar(categories, values, color='purple')\n",
        "axs[0, 1].set_title(\"Bar Chart\")\n",
        "\n",
        "# Histogram\n",
        "axs[0, 2].hist(data, bins=15, color='orange')\n",
        "axs[0, 2].set_title(\"Histogram\")\n",
        "\n",
        "# Scatter\n",
        "axs[1, 0].scatter(np.random.rand(20), np.random.rand(20), color='green')\n",
        "axs[1, 0].set_title(\"Scatter Plot\")\n",
        "\n",
        "# Pie\n",
        "axs[1, 1].pie(values, labels=categories, autopct='%1.1f%%', startangle=90)\n",
        "axs[1, 1].set_title(\"Pie Chart\")\n",
        "\n",
        "# Area\n",
        "axs[1, 2].fill_between(np.arange(1, 11), np.linspace(2, 20, 10), color=\"skyblue\", alpha=0.5)\n",
        "axs[1, 2].set_title(\"Area Chart\")\n",
        "\n",
        "# Box\n",
        "axs[2, 0].boxplot([np.random.randn(100), np.random.randn(100)*2])\n",
        "axs[2, 0].set_title(\"Box Plot\")\n",
        "\n",
        "# Heatmap (in subplot using seaborn)\n",
        "sns.heatmap(np.random.rand(5,5), ax=axs[2,1], cmap=\"coolwarm\", cbar=False)\n",
        "axs[2, 1].set_title(\"Heatmap\")\n",
        "\n",
        "# Empty 3D placeholder\n",
        "axs[2, 2].text(0.5, 0.5, \"3D Plot\\n(run separately)\", ha='center', va='center')\n",
        "axs[2, 2].set_xticks([])\n",
        "axs[2, 2].set_yticks([])\n",
        "\n",
        "plt.tight_layout()\n",
        "plt.show()\n"
      ]
    },
    {
      "cell_type": "code",
      "execution_count": 3,
      "metadata": {
        "colab": {
          "base_uri": "https://localhost:8080/",
          "height": 472
        },
        "id": "24zgZLiNzS22",
        "outputId": "da0fd848-1ee6-4e24-b6cb-9da2ef532945"
      },
      "outputs": [
        {
          "ename": "ModuleNotFoundError",
          "evalue": "No module named 'matplotlib'",
          "output_type": "error",
          "traceback": [
            "\u001b[31m---------------------------------------------------------------------------\u001b[39m",
            "\u001b[31mModuleNotFoundError\u001b[39m                       Traceback (most recent call last)",
            "\u001b[36mCell\u001b[39m\u001b[36m \u001b[39m\u001b[32mIn[3]\u001b[39m\u001b[32m, line 1\u001b[39m\n\u001b[32m----> \u001b[39m\u001b[32m1\u001b[39m \u001b[38;5;28;01mimport\u001b[39;00m\u001b[38;5;250m \u001b[39m\u001b[34;01mmatplotlib\u001b[39;00m\u001b[34;01m.\u001b[39;00m\u001b[34;01mpyplot\u001b[39;00m\u001b[38;5;250m \u001b[39m\u001b[38;5;28;01mas\u001b[39;00m\u001b[38;5;250m \u001b[39m\u001b[34;01mplt\u001b[39;00m\n\u001b[32m      2\u001b[39m \u001b[38;5;28;01mimport\u001b[39;00m\u001b[38;5;250m \u001b[39m\u001b[34;01mnumpy\u001b[39;00m\u001b[38;5;250m \u001b[39m\u001b[38;5;28;01mas\u001b[39;00m\u001b[38;5;250m \u001b[39m\u001b[34;01mnp\u001b[39;00m\n\u001b[32m      4\u001b[39m x = np.linspace(\u001b[32m1\u001b[39m, \u001b[32m10\u001b[39m, \u001b[32m10\u001b[39m)\n",
            "\u001b[31mModuleNotFoundError\u001b[39m: No module named 'matplotlib'"
          ]
        }
      ],
      "source": [
        "import matplotlib.pyplot as plt\n",
        "import numpy as np\n",
        "\n",
        "x = np.linspace(1, 10, 10)\n",
        "y1 = np.array([3, 6, 8, 12, 15, 18, 20, 22, 25, 30])\n",
        "y2 = np.array([2, 5, 7, 10, 13, 16, 18, 19, 22, 27])\n",
        "\n",
        "plt.fill_between(x, y1, color=\"blue\", alpha=0.5, label=\"Dataset 1\")\n",
        "plt.fill_between(x, y2, color=\"green\", alpha=0.5, label=\"Dataset 2\")\n",
        "\n",
        "plt.xlabel(\"X Axis\")\n",
        "plt.ylabel(\"Y Axis\")\n",
        "plt.title(\"Area Chart Example\")\n",
        "plt.legend()\n",
        "plt.grid(True)\n",
        "plt.show()\n"
      ]
    }
  ],
  "metadata": {
    "colab": {
      "provenance": []
    },
    "kernelspec": {
      "display_name": "Python 3",
      "name": "python3"
    },
    "language_info": {
      "codemirror_mode": {
        "name": "ipython",
        "version": 3
      },
      "file_extension": ".py",
      "mimetype": "text/x-python",
      "name": "python",
      "nbconvert_exporter": "python",
      "pygments_lexer": "ipython3",
      "version": "3.11.4"
    }
  },
  "nbformat": 4,
  "nbformat_minor": 0
}
