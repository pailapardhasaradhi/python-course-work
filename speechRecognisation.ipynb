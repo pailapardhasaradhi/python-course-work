{
 "cells": [
  {
   "cell_type": "code",
   "execution_count": null,
   "id": "b4b1b28b",
   "metadata": {},
   "outputs": [],
   "source": [
    "import speech_recognition as sr\n",
    "import pyttsx3\n",
    "import datetime\n",
    "import webbrowser\n",
    " \n",
    "engine  = pyttsx3.init()\n",
    "\n",
    "def speak(text):\n",
    "    voices = engine.getProperty('voices')\n",
    "    engine.setProperty('voice',voices[1].id)\n",
    "    engine.say(text)\n",
    "    engine.runAndWait()\n",
    "\n",
    "def listen():\n",
    "    recognizer = sr.Recognizer()\n",
    "    with sr.Microphone() as source:\n",
    "        print(\"Listening...\")\n",
    "        recognizer.pause_threshold = 1\n",
    "        audio = recognizer.listen(source)\n",
    "        try:\n",
    "            command = recognizer.recognize_google(audio,language='en-in')\n",
    "            print(\" you:\",command)\n",
    "            return command.lower()\n",
    "        except sr.UnknownValueError:\n",
    "            print(\"Sorry,I didnt understand\")\n",
    "            speak(\"sorry, I didnt catch that.\")\n",
    "            return \"\"\n",
    "        except sr.RequestError:\n",
    "            print(\"Speech service Error.\")\n",
    "            print(\"Sorry,my speech service id down.\")\n",
    "            return \"\"\n",
    "def run_assistant():\n",
    "    speak(\"Hello ! I'm your virtual assisitant.How can i help you ?\")     \n",
    "    while True:\n",
    "        command = listen()\n",
    "        if 'time' in command:\n",
    "            now = datetime.datetime.now().strftime(\"\")   \n",
    "\n",
    "\n",
    "\n"
   ]
  },
  {
   "cell_type": "code",
   "execution_count": null,
   "id": "e441ba52",
   "metadata": {},
   "outputs": [],
   "source": []
  }
 ],
 "metadata": {
  "language_info": {
   "name": "python"
  }
 },
 "nbformat": 4,
 "nbformat_minor": 5
}
